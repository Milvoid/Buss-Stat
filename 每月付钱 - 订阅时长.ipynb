{
 "cells": [
  {
   "cell_type": "code",
   "execution_count": 1,
   "metadata": {},
   "outputs": [],
   "source": [
    "import pandas as pd\n",
    "import matplotlib.pyplot as plt\n",
    "import seaborn as sns\n",
    "from scipy.stats import chi2_contingency"
   ]
  },
  {
   "cell_type": "code",
   "execution_count": 2,
   "metadata": {},
   "outputs": [],
   "source": [
    "file_path = 'SurveyData.csv' \n",
    "data = pd.read_csv(file_path)\n",
    "filtered_data = data[['Period', 'PayMonthly']]\n",
    "cleaned_data = filtered_data.dropna()\n",
    "# 为清晰起见，重命名列名\n",
    "cleaned_data.columns = ['Subscription_Duration', 'Subscription_Price']\n",
    "plt.rcParams['figure.dpi'] = 300\n",
    "plt.rcParams['font.sans-serif'] = ['Hiragino Sans GB']"
   ]
  },
  {
   "cell_type": "code",
   "execution_count": 3,
   "metadata": {},
   "outputs": [],
   "source": [
    "crosstab = pd.crosstab(cleaned_data['Subscription_Duration'], cleaned_data['Subscription_Price'])"
   ]
  },
  {
   "cell_type": "code",
   "execution_count": null,
   "metadata": {},
   "outputs": [],
   "source": [
    "plt.figure(figsize=(8, 6))\n",
    "sns.heatmap(crosstab, annot=True, fmt=\"d\", cmap=\"YlGnBu\")\n",
    "plt.title(\"Subscription Duration vs Subscription Price\")\n",
    "plt.xlabel(\"Subscription Price (Category)\")\n",
    "plt.ylabel(\"Subscription Duration (Category)\")\n",
    "plt.show()"
   ]
  },
  {
   "cell_type": "code",
   "execution_count": null,
   "metadata": {},
   "outputs": [],
   "source": [
    "chi2, p, dof, expected = chi2_contingency(crosstab)\n",
    "print(\"Chi-Square Test Results:\")\n",
    "print(f\"Chi-Square Statistic: {chi2:.2f}\")\n",
    "print(f\"P-Value: {p:.4f}\")\n",
    "print(f\"Degrees of Freedom: {dof}\")"
   ]
  },
  {
   "cell_type": "code",
   "execution_count": null,
   "metadata": {},
   "outputs": [],
   "source": [
    "if p < 0.05:\n",
    "    print(\"结果显示：订阅时长与订阅价格之间存在显著的统计学关系 (P-Value < 0.05)。\")\n",
    "else:\n",
    "    print(\"结果显示：订阅时长与订阅价格之间没有显著的统计学关系 (P-Value >= 0.05)。\")\n",
    "# 卡方检验的原假设 (H0)：订阅时长 (Subscription_Duration) 和订阅价格 (Subscription_Price) 是独立的。\n",
    "# 备择假设 (H1)：订阅时长和订阅价格之间存在显著的统计学关系。"
   ]
  },
  {
   "cell_type": "code",
   "execution_count": null,
   "metadata": {},
   "outputs": [],
   "source": [
    "desc_stats = cleaned_data.groupby('Subscription_Duration')['Subscription_Price'].describe()\n",
    "print(desc_stats)\n",
    "plt.figure(figsize=(8, 6))\n",
    "sns.boxplot(x='Subscription_Duration', y='Subscription_Price', data=cleaned_data)\n",
    "plt.title(\"Price Distribution by Subscription Duration\")\n",
    "plt.xlabel(\"Subscription Duration (Category)\")\n",
    "plt.ylabel(\"Subscription Price (Category)\")\n",
    "plt.show()"
   ]
  },
  {
   "cell_type": "markdown",
   "metadata": {},
   "source": [
    "价格随订阅时长的变化\n",
    "1个月和3个月订阅的价格偏低，集中在 6-15元/月，表明用户对短期订阅的价格较为敏感。\n",
    "6个月和1年订阅的价格分布范围更广，中位数也更高，表明用户在长期订阅中愿意支付更高的价格。\n",
    "价格的波动性\n",
    "短期订阅（1个月和3个月）：价格波动较小，说明用户价格选择较为一致。\n",
    "长期订阅（6个月和1年）：价格波动较大，表明用户偏好差异显著，可能受到个人需求或附加权益的影响。\n",
    "特殊订阅时长\n",
    "价格高度集中在 0-5元/月，可能是某种特定优惠订阅或试用计划，缺乏多样性。"
   ]
  },
  {
   "cell_type": "markdown",
   "metadata": {},
   "source": [
    "高价格离群点（如 1个月的 26元以上/月 和 1年的 26元以上/月）：\n",
    "表明部分用户可能对附加权益有强需求（如无广告、独占内容）。\n",
    "也可能是特殊定价策略或服务（如家庭计划或超高音质服务）。\n",
    "低价格离群点（如 6个月低于 6元/月）：\n",
    "可能是特殊促销活动（如学生优惠计划）或数据录入异常。"
   ]
  },
  {
   "cell_type": "code",
   "execution_count": 8,
   "metadata": {},
   "outputs": [],
   "source": [
    "import numpy as np\n",
    "from sklearn.linear_model import LinearRegression\n",
    "from sklearn.preprocessing import PolynomialFeatures"
   ]
  },
  {
   "cell_type": "code",
   "execution_count": null,
   "metadata": {},
   "outputs": [],
   "source": [
    "import pandas as pd\n",
    "file_path = 'SurveyData.csv'\n",
    "data = pd.read_csv(file_path)\n",
    "filtered_data = data[['Period', 'PayMonthly']]\n",
    "# 填补 NaN 值\n",
    "filtered_data.loc[:, 'Period'] = filtered_data['Period'].fillna(0).astype(int, errors='ignore')\n",
    "filtered_data.loc[:, 'PayMonthly'] = filtered_data['PayMonthly'].fillna(0).astype(int, errors='ignore')\n",
    "print(\"Period 唯一值：\", filtered_data['Period'].unique())\n",
    "print(\"PayMonthly 唯一值：\", filtered_data['PayMonthly'].unique())\n",
    "price_mapping = {\n",
    "    1: 2.5,   # 0-5元\n",
    "    2: 8,     # 6-10元\n",
    "    3: 13,    # 11-15元\n",
    "    4: 18,    # 16-20元\n",
    "    5: 23,    # 21-25元\n",
    "    6: 26.5,  # 26元以上\n",
    "    0: 0      # 未订阅或无价格\n",
    "}\n",
    "duration_mapping = {\n",
    "    1: 1,     # 1个月\n",
    "    2: 3,     # 3个月\n",
    "    3: 6,     # 6个月\n",
    "    4: 12,    # 1年\n",
    "    5: 15,    # 假设为15个月\n",
    "    0: 0      # 未订阅或无时长\n",
    "}\n",
    "filtered_data.loc[:, 'Mapped_Price'] = filtered_data['PayMonthly'].map(price_mapping)\n",
    "filtered_data.loc[:, 'Mapped_Duration'] = filtered_data['Period'].map(duration_mapping)\n",
    "print(\"映射结果预览：\")\n",
    "print(filtered_data.head(20))\n",
    "filtered_data = filtered_data[(filtered_data['Mapped_Price'] != 0) & (filtered_data['Mapped_Duration'] != 0)]\n",
    "print(\"最终数据预览：\")\n",
    "print(filtered_data.head(20))\n"
   ]
  },
  {
   "cell_type": "code",
   "execution_count": null,
   "metadata": {},
   "outputs": [],
   "source": [
    "from sklearn.linear_model import LinearRegression\n",
    "import numpy as np\n",
    "plt.rcParams['font.sans-serif'] = ['Hiragino Sans GB']  # 设置字体为冬青黑\n",
    "X = filtered_data['Mapped_Duration'].values.reshape(-1, 1)  \n",
    "y = filtered_data['Mapped_Price'].values \n",
    "linear_model = LinearRegression()\n",
    "linear_model.fit(X, y)\n",
    "print(f\"线性回归系数（Slope）：{linear_model.coef_[0]:.2f}\")\n",
    "print(f\"线性回归截距（Intercept）：{linear_model.intercept_:.2f}\")\n",
    "plt.figure(figsize=(8, 6))\n",
    "sns.scatterplot(x='Mapped_Duration', y='Mapped_Price', data=filtered_data, color='purple', alpha=0.7)\n",
    "plt.plot(filtered_data['Mapped_Duration'], linear_model.predict(X), color='red', label='Regression Line')\n",
    "plt.title(\"线性回归：订阅价格与时长的关系\")\n",
    "plt.xlabel(\"订阅时长（月）\")\n",
    "plt.ylabel(\"订阅价格（元）\")\n",
    "plt.legend()\n",
    "plt.show()"
   ]
  },
  {
   "cell_type": "code",
   "execution_count": null,
   "metadata": {},
   "outputs": [],
   "source": [
    "from sklearn.preprocessing import PolynomialFeatures\n",
    "poly = PolynomialFeatures(degree=2)  # degree=2 表示二次回归\n",
    "X_poly = poly.fit_transform(X)\n",
    "# 建立多项式回归模型\n",
    "poly_model = LinearRegression()\n",
    "poly_model.fit(X_poly, y)\n",
    "plt.figure(figsize=(8, 6))\n",
    "sns.scatterplot(x='Mapped_Duration', y='Mapped_Price', data=filtered_data, color='purple', alpha=0.7)\n",
    "plt.plot(filtered_data['Mapped_Duration'], poly_model.predict(X_poly), color='green', label='Polynomial Regression Curve')\n",
    "plt.title(\"多项式回归：订阅价格与时长的关系\")\n",
    "plt.xlabel(\"订阅时长（月）\")\n",
    "plt.ylabel(\"订阅价格（元）\")\n",
    "plt.legend()\n",
    "plt.show()\n"
   ]
  },
  {
   "cell_type": "markdown",
   "metadata": {},
   "source": [
    "使用线性回归和多参数回归均为得出较为有效的结论，我们认为每月付费与订阅时长之间并无显著线性或拟线性联系"
   ]
  },
  {
   "cell_type": "code",
   "execution_count": null,
   "metadata": {},
   "outputs": [],
   "source": [
    "# 使用分位数方法去除异常值\n",
    "Q1_price = filtered_data['Mapped_Price'].quantile(0.25)\n",
    "Q3_price = filtered_data['Mapped_Price'].quantile(0.75)\n",
    "IQR_price = Q3_price - Q1_price\n",
    "Q1_duration = filtered_data['Mapped_Duration'].quantile(0.25)\n",
    "Q3_duration = filtered_data['Mapped_Duration'].quantile(0.75)\n",
    "IQR_duration = Q3_duration - Q1_duration\n",
    "filtered_data_cleaned = filtered_data[\n",
    "    (filtered_data['Mapped_Price'] >= (Q1_price - 1.5 * IQR_price)) &\n",
    "    (filtered_data['Mapped_Price'] <= (Q3_price + 1.5 * IQR_price)) &\n",
    "    (filtered_data['Mapped_Duration'] >= (Q1_duration - 1.5 * IQR_duration)) &\n",
    "    (filtered_data['Mapped_Duration'] <= (Q3_duration + 1.5 * IQR_duration))\n",
    "]\n",
    "print(\"清洗后的数据预览：\")\n",
    "print(filtered_data_cleaned.head())\n",
    "# 再次绘制散点图\n",
    "sns.scatterplot(\n",
    "    x='Mapped_Duration', \n",
    "    y='Mapped_Price', \n",
    "    data=filtered_data_cleaned, \n",
    "    color='purple', \n",
    "    alpha=0.7\n",
    ")\n",
    "plt.title(\"清洗后的数据：订阅价格与时长的关系\")\n",
    "plt.xlabel(\"订阅时长（月）\")\n",
    "plt.ylabel(\"订阅价格（元）\")\n",
    "plt.show()"
   ]
  },
  {
   "cell_type": "markdown",
   "metadata": {},
   "source": [
    "筛选异常数据后，我们发现每月的金额与订阅时长之间也无明显联系。在折合考虑后，我们选择直接以箱线图的结论作为结论。"
   ]
  }
 ],
 "metadata": {
  "kernelspec": {
   "display_name": "Python 3",
   "language": "python",
   "name": "python3"
  },
  "language_info": {
   "codemirror_mode": {
    "name": "ipython",
    "version": 3
   },
   "file_extension": ".py",
   "mimetype": "text/x-python",
   "name": "python",
   "nbconvert_exporter": "python",
   "pygments_lexer": "ipython3",
   "version": "3.12.0"
  }
 },
 "nbformat": 4,
 "nbformat_minor": 2
}
