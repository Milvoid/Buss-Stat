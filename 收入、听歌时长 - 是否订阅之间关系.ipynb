{
 "cells": [
  {
   "cell_type": "code",
   "execution_count": 12,
   "metadata": {},
   "outputs": [],
   "source": [
    "import pandas as pd\n",
    "import numpy as np\n",
    "import matplotlib.pyplot as plt\n",
    "from matplotlib.colors import ListedColormap\n",
    "from scipy.stats import chi2_contingency\n",
    "from sklearn.linear_model import LogisticRegression\n",
    "from sklearn.model_selection import train_test_split\n",
    "from sklearn.metrics import accuracy_score\n",
    "from sklearn.impute import SimpleImputer\n",
    "from sklearn.pipeline import Pipeline\n",
    "\n",
    "\n",
    "# 加载数据集\n",
    "dt = pd.read_csv('SurveyData.csv')\n",
    "income = dt[\"IncomeLevel\"]\n",
    "converted_sub = dt[\"Non-Subscribe\"]\n",
    "sub = [1-x for x in converted_sub]\n",
    "time = dt[\"ListeningTime\"]\n"
   ]
  },
  {
   "cell_type": "code",
   "execution_count": null,
   "metadata": {},
   "outputs": [],
   "source": [
    "# 首先分别对两个变量是否与订阅存在显著关系进行看房检验\n",
    "chi2, p, dof, expected = chi2_contingency([pd.crosstab(income, sub)])\n",
    "print(f\"Chi-squared: {chi2}\")\n",
    "print(f\"P-value: {p}\")\n",
    "print(f\"Degrees of freedom: {dof}\")\n",
    "if p < 0.05:\n",
    "    print(\"在显著水平为0.05的情况下，拒绝原假设，收入与订阅存在显著关系。\")\n",
    "else:\n",
    "    print(\"在显著水平为0.05的情况下，不能拒绝原假设，收入与订阅不存在显著关系。\")\n",
    "\n",
    "chi2, p, dof, expected = chi2_contingency([pd.crosstab(time, sub)])\n",
    "print(f\"Chi-squared: {chi2}\")\n",
    "print(f\"P-value: {p}\")\n",
    "print(f\"Degrees of freedom: {dof}\")\n",
    "if p < 0.05:\n",
    "    print(\"在显著水平为0.05的情况下，拒绝原假设，时间与订阅存在显著关系。\")\n",
    "else:\n",
    "    print(\"在显著水平为0.05的情况下，不能拒绝原假设，时间与订阅不存在显著关系。\")"
   ]
  },
  {
   "cell_type": "markdown",
   "metadata": {},
   "source": [
    "由卡方检验可知，两个变量都与是否订阅存在显著关系。"
   ]
  },
  {
   "cell_type": "code",
   "execution_count": null,
   "metadata": {},
   "outputs": [],
   "source": [
    "# 接着探究两个自变量之间即收入与听歌时长之间是否存在显著关系\n",
    "# 因为数据将收入分为了区间，而听歌时长也同样分为了区间。因此将两者都视作分类变量。\n",
    "# 则H0: 收入与听歌时长之间不存在显著关系\n",
    "# H1: 收入与听歌时长之间存在显著关系\n",
    "\n",
    "# 创建列联表并添加总计\n",
    "contingency_table1 = pd.crosstab(income, time, rownames=['IncomeLevel'], colnames=['Listening Time'], margins=True)\n",
    "# 列联表\n",
    "print(contingency_table1)\n",
    "\n",
    "# 进行卡方检验\n",
    "chi2, p, dof, expected = chi2_contingency([pd.crosstab(income, time)])\n",
    "print(f\"Chi-squared: {chi2}\")\n",
    "print(f\"P-value: {p}\")\n",
    "print(f\"Degrees of freedom: {dof}\")\n",
    "if p < 0.05:\n",
    "    print(\"在显著水平为0.05的情况下，拒绝原假设，存在显著关系。\")\n",
    "else:\n",
    "    print(\"在显著水平为0.05的情况下，不能拒绝原假设，不存在显著关系。\")"
   ]
  },
  {
   "cell_type": "markdown",
   "metadata": {},
   "source": [
    "依据卡方检验，我们认为两者之间不存在显著关系。即两者之间是独立的。\n",
    "\n",
    "所以接下来我们进行对两者与是否订阅之间的关系的具体分析。\n",
    "因为因变量是个分类变量，所以我们不能采用线性回归的方法进行分析。考虑到是否订阅是个二分类的分类变量，逻辑回归的方法在此处可能更为合适。"
   ]
  },
  {
   "cell_type": "code",
   "execution_count": null,
   "metadata": {},
   "outputs": [],
   "source": [
    "#准备填充数据用的pipeline\n",
    "imputer = SimpleImputer(missing_values=np.nan, strategy='mean')\n",
    "pipeline = Pipeline([\n",
    "    ('imputer', imputer),\n",
    "    ('classifier', LogisticRegression())\n",
    "])\n",
    "\n",
    "# 准备数据\n",
    "X = pd.DataFrame({'IncomeLevel': income, 'ListeningTime': time})  \n",
    "y = np.array(sub)  \n",
    "\n",
    "# 确保X和y中没有缺失值\n",
    "X = X.dropna()\n",
    "y = y[X.index]  \n",
    "\n",
    "#进行数据集划分\n",
    "X_train, X_test, y_train, y_test = train_test_split(X, y, test_size=0.2, random_state=42)\n",
    "\n",
    "# 使用管道训练模型\n",
    "pipeline.fit(X_train, y_train)\n",
    "\n",
    "# 预测\n",
    "y_pred = pipeline.predict(X_test)\n",
    "\n",
    "# 评估模型\n",
    "accuracy = accuracy_score(y_test, y_pred)\n",
    "print(f\"Accuracy: {accuracy}\")\n",
    "\n",
    "# 获取训练后的逻辑回归模型\n",
    "trained_classifier = pipeline.named_steps['classifier']\n",
    "\n",
    "# 查看系数\n",
    "print(\"对应系数:\", trained_classifier.coef_)\n",
    "\n",
    "# 查看截距\n",
    "print(\"截距:\", trained_classifier.intercept_)"
   ]
  },
  {
   "cell_type": "code",
   "execution_count": null,
   "metadata": {},
   "outputs": [],
   "source": [
    "plt.rcParams['font.sans-serif'] = ['Hiragino Sans GB']\n",
    "plt.rcParams['axes.unicode_minus'] = False\n",
    "plt.rcParams['figure.dpi'] = 300\n",
    "\n",
    "# 获取逻辑回归模型的系数和截距\n",
    "coef = trained_classifier.coef_[0]  # 系数\n",
    "intercept = trained_classifier.intercept_  # 截距\n",
    "\n",
    "# 创建网格，用于计算每个点的预测概率\n",
    "x_min, x_max = X['IncomeLevel'].min() - 1, X['IncomeLevel'].max() + 1\n",
    "y_min, y_max = X['ListeningTime'].min() - 1, X['ListeningTime'].max() + 1\n",
    "xx, yy = np.meshgrid(np.linspace(x_min, x_max, 100),\n",
    "                     np.linspace(y_min, y_max, 100))\n",
    "\n",
    "# 计算网格点的预测概率\n",
    "grid = np.c_[xx.ravel(), yy.ravel()]\n",
    "probs = trained_classifier.predict_proba(grid)[:, 1].reshape(xx.shape)\n",
    "\n",
    "# 绘制决策边界\n",
    "plt.figure(figsize=(10, 6))\n",
    "plt.contourf(xx, yy, probs, alpha=0.7, cmap=\"RdBu_r\")\n",
    "plt.colorbar(label='Probability of Subscription')\n",
    "\n",
    "# 添加样本点\n",
    "plt.scatter(X['IncomeLevel'], X['ListeningTime'], c=y, edgecolor='k', s=50,\n",
    "            cmap=ListedColormap(['blue', 'red']), label=\"Subscription\")\n",
    "plt.legend([\"0 (Not Subscribed)\", \"1 (Subscribed)\"], loc=\"upper right\")\n",
    "\n",
    "# 设置标题和坐标轴\n",
    "plt.title(\"Logistic Regression Decision Boundary\")\n",
    "plt.xlabel(\"Income Level\")\n",
    "plt.ylabel(\"Listening Time Per Day\")\n",
    "plt.show()\n"
   ]
  },
  {
   "cell_type": "markdown",
   "metadata": {},
   "source": [
    "由之前的结论，听歌时长和收入都对订阅有着显著影响。\n",
    "而由逻辑回归的系数来看，听歌时长对是否订阅的影响比收入的影响更大。"
   ]
  }
 ],
 "metadata": {
  "kernelspec": {
   "display_name": "Python 3",
   "language": "python",
   "name": "python3"
  },
  "language_info": {
   "codemirror_mode": {
    "name": "ipython",
    "version": 3
   },
   "file_extension": ".py",
   "mimetype": "text/x-python",
   "name": "python",
   "nbconvert_exporter": "python",
   "pygments_lexer": "ipython3",
   "version": "3.12.0"
  }
 },
 "nbformat": 4,
 "nbformat_minor": 2
}
